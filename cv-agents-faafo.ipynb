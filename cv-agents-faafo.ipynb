{
 "cells": [
  {
   "cell_type": "markdown",
   "id": "06e9219c",
   "metadata": {},
   "source": [
    "*F.A.A.F.O with knowledge base embedding*"
   ]
  },
  {
   "cell_type": "code",
   "execution_count": null,
   "id": "u41192vvkpl",
   "metadata": {},
   "outputs": [],
   "source": [
    "from embedding_tool import KnowledgeBaseEmbedder\n",
    "\n",
    "embedder = KnowledgeBaseEmbedder()\n",
    "\n",
    "result = embedder.create_embeddings()\n",
    "\n",
    "print(f\"Status: {result['status']}\")\n",
    "print(f\"Message: {result['message']}\")\n",
    "print(f\"Documents loaded: {result['documents_loaded']}\")\n",
    "print(f\"Chunks created: {result['chunks_created']}\")\n",
    "print(f\"Vectors stored: {result['vectors_stored']}\")\n",
    "print(f\"Vector dimensions: {result['vector_dimensions']}\")\n",
    "print(f\"Document types found: {', '.join(result['doc_types'])}\")"
   ]
  },
  {
   "cell_type": "markdown",
   "id": "847ad2b4",
   "metadata": {},
   "source": [
    "*F.A.A.F.O with vector store*"
   ]
  },
  {
   "cell_type": "code",
   "execution_count": null,
   "id": "43qu1bb4lu3",
   "metadata": {
    "lines_to_next_cell": 0
   },
   "outputs": [],
   "source": [
    "vectorstore = embedder.get_vectorstore()\n",
    "\n",
    "if vectorstore:\n",
    "    query = \"software development experience\"\n",
    "    results = vectorstore.similarity_search(query, k=3)\n",
    "    \n",
    "    print(f\"Query: '{query}'\")\n",
    "    print(f\"Found {len(results)} relevant documents:\")\n",
    "    print()\n",
    "    \n",
    "    for i, doc in enumerate(results, 1):\n",
    "        print(f\"Result {i}:\")\n",
    "        print(f\"  Doc type: {doc.metadata.get('doc_type', 'unknown')}\")\n",
    "        print(f\"  Source: {doc.metadata.get('source', 'unknown')}\")\n",
    "        print(f\"  Content preview: {doc.page_content[:200]}...\")\n",
    "        print()\n",
    "else:\n",
    "    print(\"No vectorstore found\")"
   ]
  },
  {
   "cell_type": "markdown",
   "id": "28c171e8",
   "metadata": {},
   "source": []
  }
 ],
 "metadata": {
  "kernelspec": {
   "display_name": "CV Agents",
   "language": "python",
   "name": "cv-agents"
  },
  "language_info": {
   "codemirror_mode": {
    "name": "ipython",
    "version": 3
   },
   "file_extension": ".py",
   "mimetype": "text/x-python",
   "name": "python",
   "nbconvert_exporter": "python",
   "pygments_lexer": "ipython3",
   "version": "3.12.10"
  }
 },
 "nbformat": 4,
 "nbformat_minor": 5
}
