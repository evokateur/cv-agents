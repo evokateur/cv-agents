{
 "cells": [
  {
   "cell_type": "markdown",
   "id": "83892109-207a-4bed-964a-c5f4ad299cad",
   "metadata": {},
   "source": [
    "# Targeted C.V.\n",
    "\n",
    "Ask Claude to optimize the C.V. content for a particular posting"
   ]
  },
  {
   "cell_type": "code",
   "execution_count": null,
   "id": "ee7838ff-d974-477a-a669-8ede62424b8b",
   "metadata": {},
   "outputs": [],
   "source": [
    "import os\n",
    "import io\n",
    "import sys\n",
    "from dotenv import load_dotenv\n",
    "import anthropic"
   ]
  },
  {
   "cell_type": "code",
   "execution_count": null,
   "id": "f66d5f18-9739-45e5-8e0c-b8281599ae20",
   "metadata": {},
   "outputs": [],
   "source": [
    "load_dotenv"
   ]
  },
  {
   "cell_type": "code",
   "execution_count": null,
   "id": "77700951-79d1-44bf-8174-c30fab4c2ffe",
   "metadata": {},
   "outputs": [],
   "source": [
    "claude = anthropic.Anthropic()"
   ]
  },
  {
   "cell_type": "code",
   "execution_count": null,
   "id": "54ffd848-feba-4a1f-bf5f-9139b5fdaa4e",
   "metadata": {},
   "outputs": [],
   "source": []
  }
 ],
 "metadata": {
  "kernelspec": {
   "display_name": "Python 3 (ipykernel)",
   "language": "python",
   "name": "python3"
  },
  "language_info": {
   "codemirror_mode": {
    "name": "ipython",
    "version": 3
   },
   "file_extension": ".py",
   "mimetype": "text/x-python",
   "name": "python",
   "nbconvert_exporter": "python",
   "pygments_lexer": "ipython3",
   "version": "3.12.10"
  }
 },
 "nbformat": 4,
 "nbformat_minor": 5
}
