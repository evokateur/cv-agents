{
 "cells": [
  {
   "cell_type": "code",
   "execution_count": null,
   "id": "u41192vvkpl",
   "metadata": {},
   "outputs": [],
   "source": [
    "# Test the new embedding tool\n",
    "\n",
    "from embedding_tool import KnowledgeBaseEmbedder\n",
    "\n",
    "# Create embedder instance\n",
    "embedder = KnowledgeBaseEmbedder()\n",
    "\n",
    "# Create embeddings and get statistics\n",
    "result = embedder.create_embeddings()\n",
    "\n",
    "# Display results\n",
    "print(f\"Status: {result['status']}\")\n",
    "print(f\"Message: {result['message']}\")\n",
    "print(f\"Documents loaded: {result['documents_loaded']}\")\n",
    "print(f\"Chunks created: {result['chunks_created']}\")\n",
    "print(f\"Vectors stored: {result['vectors_stored']}\")\n",
    "print(f\"Vector dimensions: {result['vector_dimensions']}\")\n",
    "print(f\"Document types found: {', '.join(result['doc_types'])}\")"
   ]
  },
  {
   "cell_type": "code",
   "execution_count": null,
   "id": "43qu1bb4lu3",
   "metadata": {},
   "outputs": [],
   "source": [
    "# Test retrieval from the new vectorstore\n",
    "\n",
    "vectorstore = embedder.get_vectorstore()\n",
    "\n",
    "if vectorstore:\n",
    "    # Test a sample query\n",
    "    query = \"software development experience\"\n",
    "    results = vectorstore.similarity_search(query, k=3)\n",
    "    \n",
    "    print(f\"Query: '{query}'\")\n",
    "    print(f\"Found {len(results)} relevant documents:\")\n",
    "    print()\n",
    "    \n",
    "    for i, doc in enumerate(results, 1):\n",
    "        print(f\"Result {i}:\")\n",
    "        print(f\"  Doc type: {doc.metadata.get('doc_type', 'unknown')}\")\n",
    "        print(f\"  Source: {doc.metadata.get('source', 'unknown')}\")\n",
    "        print(f\"  Content preview: {doc.page_content[:200]}...\")\n",
    "        print()\n",
    "else:\n",
    "    print(\"No vectorstore found\")"
   ]
  }
 ],
 "metadata": {
  "kernelspec": {
   "display_name": "CV Agent",
   "language": "python",
   "name": "cv-agent"
  },
  "language_info": {
   "codemirror_mode": {
    "name": "ipython",
    "version": 3
   },
   "file_extension": ".py",
   "mimetype": "text/x-python",
   "name": "python",
   "nbconvert_exporter": "python",
   "pygments_lexer": "ipython3",
   "version": "3.12.10"
  }
 },
 "nbformat": 4,
 "nbformat_minor": 5
}
