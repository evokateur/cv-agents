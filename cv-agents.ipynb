{
 "cells": [
  {
   "cell_type": "markdown",
   "id": "2f418d2c",
   "metadata": {},
   "source": [
    "# C.V. Agents"
   ]
  },
  {
   "cell_type": "markdown",
   "id": "d3855033",
   "metadata": {},
   "source": [
    "## Optimizing a Candidate C.V. for a Job Posting\n",
    "\n",
    "1. Analyze the job posting to extract structured requirements.\n",
    "2. Profile a candidate by querying a knowledge base for data relevant to the job posting\n",
    "3. Optimize the candidate's CV based on the job requirements and profile data\n",
    "\n",
    "## The Data Flow\n",
    "\n",
    "1. **Job posting URL → Job Analyst → Structured job requirements:**  \n",
    "   The job posting URL is analyzed to extract a structured list of requirements.\n",
    "2. **Candidate data + Job requirements → Candidate Profiler → Profile analysis:**  \n",
    "   Candidate data is assessed in the context of the job requirements to generate a candidate profile.\n",
    "3. **Profile + Job requirements → CV Strategist → Optimization recommendations:**  \n",
    "   The candidate profile and job requirements are used to produce recommendations for CV optimization.\n",
    "4. **Optimized data → Template engine → LaTeX → PDF:**  \n",
    "   The optimized CV data can be rendered into a LaTeX template to generate a PDF.\n",
    "\n",
    "## CrewAI Source Code and YAML Configuration"
   ]
  },
  {
   "cell_type": "code",
   "execution_count": null,
   "id": "bc09824c-91a9-43f4-b671-1f2bf596b917",
   "metadata": {
    "lines_to_next_cell": 0
   },
   "outputs": [],
   "source": [
    "from IPython.display import display, Markdown\n",
    "\n",
    "def display_code(file_path, lang='python'):\n",
    "    with open(file_path) as file:\n",
    "        content = file.read()\n",
    "    display(Markdown(f'#### `{file_path}`\\n\\n```{lang}\\n' + content + '\\n```'))\n"
   ]
  },
  {
   "cell_type": "markdown",
   "id": "778de463",
   "metadata": {},
   "source": [
    "The following cells display the YAML and Python code used to set up the CrewAI agents and tasks for this workflow.\n",
    "\n",
    "### Agents and Tasks\n",
    "\n",
    "Agents and tasks are defined using a hybrid YAML and Python approach.\n",
    "\n",
    "YAML is used for string based configuration"
   ]
  },
  {
   "cell_type": "code",
   "execution_count": null,
   "id": "ec2f4be0",
   "metadata": {},
   "outputs": [],
   "source": [
    "display_code('optimizer/config/agents.yaml', 'yaml')\n",
    "display_code('optimizer/config/tasks.yaml', 'yaml')"
   ]
  },
  {
   "cell_type": "markdown",
   "id": "b78a0014-4cb2-4b71-9e2a-111130235996",
   "metadata": {},
   "source": [
    "Python handles structured outputs and tools"
   ]
  },
  {
   "cell_type": "code",
   "execution_count": null,
   "id": "d80b8da3",
   "metadata": {},
   "outputs": [],
   "source": [
    "display_code('optimizer/agents.py')\n",
    "display_code('optimizer/tasks.py')"
   ]
  },
  {
   "cell_type": "markdown",
   "id": "0c508c9c",
   "metadata": {},
   "source": [
    "### Structured Outputs\n",
    "\n",
    "Pydantic models specify structured outputs."
   ]
  },
  {
   "cell_type": "code",
   "execution_count": null,
   "id": "e5b89f72",
   "metadata": {},
   "outputs": [],
   "source": [
    "display_code('optimizer/models.py')"
   ]
  },
  {
   "cell_type": "markdown",
   "id": "f429a62f",
   "metadata": {},
   "source": [
    "### The Crew\n",
    "\n",
    "The `CrewBase` class coordinates the agents and tasks, using decorators to designate special methods for the workflow."
   ]
  },
  {
   "cell_type": "code",
   "execution_count": null,
   "id": "5d683c3f",
   "metadata": {},
   "outputs": [],
   "source": [
    "display_code('optimizer/crew.py')"
   ]
  },
  {
   "cell_type": "markdown",
   "id": "2506fd99",
   "metadata": {},
   "source": [
    "## Running the Crew"
   ]
  },
  {
   "cell_type": "code",
   "execution_count": null,
   "id": "c607728c-ecff-4b30-a17f-241ad1967d19",
   "metadata": {},
   "outputs": [],
   "source": [
    "from optimizer.crew import CvOptimizer\n",
    "\n",
    "job_posting_url = \"https://app.welcometothejungle.com/dashboard/jobs/oA1SArxV\"\n",
    "cv_data_path = \"data/cv.json\"\n",
    "output_directory = \"job_postings/automattic\"\n",
    "\n",
    "inputs = {\n",
    "    \"job_posting_url\": job_posting_url,\n",
    "    \"cv_data_path\": cv_data_path,\n",
    "    \"output_directory\": output_directory\n",
    "}\n",
    "\n",
    "CvOptimizer().crew().kickoff(inputs=inputs)"
   ]
  }
 ],
 "metadata": {
  "kernelspec": {
   "display_name": "CV Agents",
   "language": "python",
   "name": "cv-agents"
  },
  "language_info": {
   "codemirror_mode": {
    "name": "ipython",
    "version": 3
   },
   "file_extension": ".py",
   "mimetype": "text/x-python",
   "name": "python",
   "nbconvert_exporter": "python",
   "pygments_lexer": "ipython3",
   "version": "3.12.10"
  }
 },
 "nbformat": 4,
 "nbformat_minor": 5
}
