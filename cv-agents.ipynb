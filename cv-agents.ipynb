{
 "cells": [
  {
   "cell_type": "markdown",
   "id": "2f418d2c",
   "metadata": {},
   "source": [
    "# C.V. Agents\n",
    "\n",
    "1. Analyze a job posting to extract structured requirements.\n",
    "2. Profile a candidate by querying a knowledge base for data relevant to the job posting\n",
    "3. Optimize the candidate's CV based on the job requirements and profile data\n",
    "\n",
    "## Data Flow\n",
    "\n",
    "1. Job posting URL → Job Analyst → Structured job requirements\n",
    "2. Candidate data + Job requirements → Candidate Profiler → Profile analysis  \n",
    "3. Profile + Job requirements → CV Strategist → Optimization recommendations\n",
    "4. Optimized data → Template engine → LaTeX → PDF\n",
    "\n",
    "*Import the agents and tasks:*"
   ]
  },
  {
   "cell_type": "code",
   "execution_count": null,
   "id": "03b3579b",
   "metadata": {},
   "outputs": [],
   "source": [
    "from optimizer.agents.job_analyst import job_analyst as analyst\n",
    "from optimizer.agents.candidate_profiler import candidate_profiler as profiler\n",
    "from optimizer.agents.cv_strategist import cv_strategist as strategist\n",
    "\n",
    "from optimizer.tasks.job_analysis_task import create_job_analysis_task\n",
    "from optimizer.tasks.candidate_profile_task import create_candidate_profile_task\n",
    "from optimizer.tasks.cv_optimizing_task import create cv_optimizing_task"
   ]
  },
  {
   "cell_type": "markdown",
   "id": "7bc619c4",
   "metadata": {},
   "source": [
    "*Chunk knowledge base docs and embed them in a vector store:*"
   ]
  },
  {
   "cell_type": "code",
   "execution_count": null,
   "id": "u41192vvkpl",
   "metadata": {},
   "outputs": [],
   "source": [
    "from embedding_tool import KnowledgeBaseEmbedder\n",
    "embedder = KnowledgeBaseEmbedder()\n",
    "result = embedder.create_embeddings()"
   ]
  },
  {
   "cell_type": "markdown",
   "id": "fd8d3591",
   "metadata": {
    "lines_to_next_cell": 0
   },
   "source": [
    "*Configure the Crew AI environment:*"
   ]
  },
  {
   "cell_type": "code",
   "execution_count": null,
   "id": "39b4bbf3",
   "metadata": {
    "lines_to_next_cell": 0
   },
   "outputs": [],
   "source": [
    "from crewai import Crew\n",
    "\n",
    "inputs = {\n",
    "    \"job_posting_url\": \"https://app.welcometothejungle.com/dashboard/jobs/oA1SArxV\",\n",
    "}"
   ]
  },
  {
   "cell_type": "markdown",
   "id": "0c508c9c",
   "metadata": {},
   "source": []
  }
 ],
 "metadata": {
  "kernelspec": {
   "display_name": "CV Agents",
   "language": "python",
   "name": "cv-agents"
  },
  "language_info": {
   "codemirror_mode": {
    "name": "ipython",
    "version": 3
   },
   "file_extension": ".py",
   "mimetype": "text/x-python",
   "name": "python",
   "nbconvert_exporter": "python",
   "pygments_lexer": "ipython3",
   "version": "3.12.10"
  }
 },
 "nbformat": 4,
 "nbformat_minor": 5
}
