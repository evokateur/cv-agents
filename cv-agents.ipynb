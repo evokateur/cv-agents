{
 "cells": [
  {
   "cell_type": "markdown",
   "id": "2f418d2c",
   "metadata": {},
   "source": [
    "# C.V. Agents\n",
    "In which CrewAI agents are used to optimize my C.V. for a particular job posting.\n",
    "\n",
    "## These are the Things\n",
    "\n",
    "### The Data Flow\n",
    "\n",
    "1. Job posting URL → Job Analyst → Structured job requirements\n",
    "2. Candidate data + Job requirements → Candidate Profiler → Profile analysis  \n",
    "3. Profile + Job requirements → CV Strategist → Optimization recommendations\n",
    "4. Optimized data → Template engine → LaTeX → PDF\n",
    "\n",
    "*Imports needed just about everywhere:*"
   ]
  },
  {
   "cell_type": "code",
   "execution_count": null,
   "id": "03b3579b",
   "metadata": {},
   "outputs": [],
   "source": [
    "from config import get_config\n",
    "from crewai import Agent, Task, LLM\n",
    "from crewai_tools import SerperDevTool, ScrapeWebsiteTool"
   ]
  },
  {
   "cell_type": "markdown",
   "id": "7bc619c4",
   "metadata": {},
   "source": [
    "*..as well as the config:*"
   ]
  },
  {
   "cell_type": "code",
   "execution_count": null,
   "id": "6ea25c05",
   "metadata": {},
   "outputs": [],
   "source": [
    "config = get_config()\n"
   ]
  },
  {
   "cell_type": "markdown",
   "id": "4400221b",
   "metadata": {},
   "source": [
    "### The Job Analyst"
   ]
  },
  {
   "cell_type": "code",
   "execution_count": null,
   "id": "c16d5fb2",
   "metadata": {},
   "outputs": [],
   "source": [
    "from crewai_tools import SerperDevTool, ScrapeWebsiteTool\n",
    "\n",
    "search_tool = SerperDevTool()\n",
    "scrape_tool = ScrapeWebsiteTool()\n",
    "\n",
    "llm = LLM(\n",
    "    model=config.job_analyst_model,\n",
    "    temperature=float(config.job_analyst_temperature),\n",
    ")\n",
    "\n",
    "job_analyst = Agent(\n",
    "    role=\"Tech Job Researcher\",\n",
    "    goal=\"Make sure to do amazing analysis on job posting to help job applicants\",\n",
    "    tools=[scrape_tool, search_tool],\n",
    "    verbose=True,\n",
    "    llm=llm,\n",
    "    backstory=(\n",
    "        \"As a Job Researcher, your prowess in \"\n",
    "        \"navigating and extracting critical \"\n",
    "        \"information from job postings is unmatched.\"\n",
    "        \"Your skills help pinpoint the necessary \"\n",
    "        \"qualifications and skills sought \"\n",
    "        \"by employers, forming the foundation for \"\n",
    "        \"effective application tailoring.\"\n",
    "    ),\n",
    ")"
   ]
  },
  {
   "cell_type": "markdown",
   "id": "26be89fd",
   "metadata": {},
   "source": [
    "*I'll build the inputs as they become apparent:*"
   ]
  },
  {
   "cell_type": "code",
   "execution_count": null,
   "id": "c7a61e4a",
   "metadata": {
    "lines_to_next_cell": 2
   },
   "outputs": [],
   "source": [
    "inputs = {\n",
    "    \"job_posting_url\": \"https://app.welcometothejungle.com/dashboard/jobs/oA1SArxV\",\n",
    "}"
   ]
  },
  {
   "cell_type": "markdown",
   "id": "3537eeea",
   "metadata": {},
   "source": [
    "### The Job Analysis Task"
   ]
  },
  {
   "cell_type": "code",
   "execution_count": null,
   "id": "12ae17de",
   "metadata": {
    "lines_to_next_cell": 2
   },
   "outputs": [],
   "source": [
    "from optimizer.models import JobPosting\n",
    "\n",
    "job_analysis_task = Task(\n",
    "    description=(\n",
    "        \"Analyze the job posting URL provided ({job_posting_url}) to extract and structure \"\n",
    "        \"the following information:\\n\"\n",
    "        \"- Job title and company name\\n\"\n",
    "        \"- Industry sector\\n\"\n",
    "        \"- Complete job description\\n\"\n",
    "        \"- Experience level required (entry, mid, senior, etc.)\\n\"\n",
    "        \"- General requirements (education, certifications, years of experience)\\n\"\n",
    "        \"- Required skills (must-have technical and soft skills)\\n\"\n",
    "        \"- Preferred skills (nice-to-have skills that give candidates an advantage)\\n\"\n",
    "        \"- Key responsibilities and day-to-day activities\\n\"\n",
    "        \"Use the scraping and search tools to gather comprehensive information.\"\n",
    "    ),\n",
    "    expected_output=(\n",
    "        \"A structured JobPosting object containing title, company, industry, \"\n",
    "        \"description, experience_level, requirements, required_skills, \"\n",
    "        \"preferred_skills, and responsibilities extracted from the job posting.\"\n",
    "    ),\n",
    "    output_pydantic=JobPosting,\n",
    "    agent=job_analyst,\n",
    ")"
   ]
  },
  {
   "cell_type": "code",
   "execution_count": null,
   "id": "u41192vvkpl",
   "metadata": {
    "lines_to_next_cell": 0
   },
   "outputs": [],
   "source": [
    "# Create the vectorstore for the knowledge base\n",
    "from embedding_tool import KnowledgeBaseEmbedder\n",
    "embedder = KnowledgeBaseEmbedder()\n",
    "result = embedder.create_embeddings()"
   ]
  },
  {
   "cell_type": "markdown",
   "id": "0c508c9c",
   "metadata": {},
   "source": []
  }
 ],
 "metadata": {
  "kernelspec": {
   "display_name": "CV Agents",
   "language": "python",
   "name": "cv-agents"
  },
  "language_info": {
   "codemirror_mode": {
    "name": "ipython",
    "version": 3
   },
   "file_extension": ".py",
   "mimetype": "text/x-python",
   "name": "python",
   "nbconvert_exporter": "python",
   "pygments_lexer": "ipython3",
   "version": "3.12.10"
  }
 },
 "nbformat": 4,
 "nbformat_minor": 5
}
