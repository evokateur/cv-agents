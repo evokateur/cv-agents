{
 "cells": [
  {
   "cell_type": "markdown",
   "id": "2f418d2c",
   "metadata": {},
   "source": [
    "# CrewAI C.V. Agents\n",
    "\n",
    "## The Job Posting"
   ]
  },
  {
   "cell_type": "code",
   "execution_count": null,
   "id": "d80b8da3",
   "metadata": {},
   "outputs": [],
   "source": [
    "job_posting_url = \"https://app.welcometothejungle.com/dashboard/jobs/oA1SArxV\""
   ]
  },
  {
   "cell_type": "markdown",
   "id": "223071eb",
   "metadata": {},
   "source": [
    "## The Goal\n",
    "\n",
    "1. Analyze the job posting to extract structured requirements.\n",
    "2. Profile a candidate by querying a knowledge base for data relevant to the job posting\n",
    "3. Optimize the candidate's CV based on the job requirements and profile data\n",
    "\n",
    "## The Data Flow\n",
    "\n",
    "1. Job posting URL → Job Analyst → Structured job requirements\n",
    "2. Candidate data + Job requirements → Candidate Profiler → Profile analysis  \n",
    "3. Profile + Job requirements → CV Strategist → Optimization recommendations\n",
    "4. Optimized data → Template engine → LaTeX → PDF\n",
    "\n",
    "## The Implementation\n",
    "\n",
    "*Import the Agents and functions to create the Tasks:*"
   ]
  },
  {
   "cell_type": "code",
   "execution_count": null,
   "id": "03b3579b",
   "metadata": {},
   "outputs": [],
   "source": "from optimizer.agents.job_analyst import job_analyst as analyst\nfrom optimizer.agents.candidate_profiler import candidate_profiler as profiler\nfrom optimizer.agents.cv_strategist import cv_strategist as strategist\n\nfrom optimizer.tasks.job_analysis_task import create_job_analysis_task\nfrom optimizer.tasks.candidate_profiling_task import create_candidate_profiling_task\nfrom optimizer.tasks.cv_optimization_task import create_cv_optimization_task"
  },
  {
   "cell_type": "markdown",
   "id": "7bc619c4",
   "metadata": {},
   "source": [
    "*Chunk knowledge base docs and embed them in a vector store:*"
   ]
  },
  {
   "cell_type": "code",
   "execution_count": null,
   "id": "u41192vvkpl",
   "metadata": {},
   "outputs": [],
   "source": [
    "from embedding_tool import KnowledgeBaseEmbedder\n",
    "embedder = KnowledgeBaseEmbedder()\n",
    "result = embedder.create_embeddings()"
   ]
  },
  {
   "cell_type": "markdown",
   "id": "1aejw6wsgow",
   "source": "*Verify vector store status:*",
   "metadata": {}
  },
  {
   "cell_type": "code",
   "id": "n6jntew2xl",
   "source": "vectorstore = embedder.get_vectorstore()\nif vectorstore:\n    count = vectorstore._collection.count()\n    print(f\"✓ Vector store ready: {count} vectors\")\nelse:\n    print(\"✗ Vector store not found\")",
   "metadata": {},
   "execution_count": null,
   "outputs": []
  },
  {
   "cell_type": "markdown",
   "id": "fd8d3591",
   "metadata": {},
   "source": [
    "*Set up the Tasks:*"
   ]
  },
  {
   "cell_type": "code",
   "execution_count": null,
   "id": "39b4bbf3",
   "metadata": {},
   "outputs": [],
   "source": "job_analysis = create_job_analysis_task(analyst)\ncandidate_profile = create_candidate_profiling_task(profiler, job_analysis)\ncv_optimization = create_cv_optimization_task(strategist, job_analysis, candidate_profile)"
  },
  {
   "cell_type": "markdown",
   "id": "edf180b9",
   "metadata": {},
   "source": [
    "*Set up the Crew*"
   ]
  },
  {
   "cell_type": "code",
   "execution_count": null,
   "id": "309d6c41",
   "metadata": {},
   "outputs": [],
   "source": "from crewai import Crew, LLM\nfrom config import get_config\n\nconfig = get_config()\n\ninputs = {\n    \"job_posting_url\": job_posting_url,\n    \"cv_data_path\": \"data/cv.yaml\",\n}\n\nllm = LLM(\n    model=config.crew_manager_model, temperature=config.crew_manager_temperature,\n)\n\ncrew = Crew(\n    agents=[analyst, profiler, strategist],\n    tasks=[job_analysis, candidate_profile, cv_optimization],\n    llm=llm,\n    inputs=inputs,\n    verbose=True,\n    debug=True,\n)"
  },
  {
   "cell_type": "markdown",
   "id": "74eb7c7b",
   "metadata": {},
   "source": [
    "*Release the hounds!*"
   ]
  },
  {
   "cell_type": "code",
   "execution_count": null,
   "id": "aa7fbab7",
   "metadata": {
    "lines_to_next_cell": 0
   },
   "outputs": [],
   "source": "result = crew.kickoff(inputs=inputs)"
  },
  {
   "cell_type": "markdown",
   "id": "0c508c9c",
   "metadata": {},
   "source": []
  }
 ],
 "metadata": {
  "kernelspec": {
   "display_name": "CV Agents",
   "language": "python",
   "name": "cv-agents"
  },
  "language_info": {
   "codemirror_mode": {
    "name": "ipython",
    "version": 3
   },
   "file_extension": ".py",
   "mimetype": "text/x-python",
   "name": "python",
   "nbconvert_exporter": "python",
   "pygments_lexer": "ipython3",
   "version": "3.12.10"
  }
 },
 "nbformat": 4,
 "nbformat_minor": 5
}