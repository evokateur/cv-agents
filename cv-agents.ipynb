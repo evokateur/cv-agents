{
 "cells": [
  {
   "cell_type": "markdown",
   "id": "2f418d2c",
   "metadata": {},
   "source": [
    "# CrewAI C.V. Agents"
   ]
  },
  {
   "cell_type": "markdown",
   "id": "d3855033",
   "metadata": {},
   "source": [
    "## The Goals\n",
    "\n",
    "1. Analyze the job posting to extract structured requirements.\n",
    "2. Profile a candidate by querying a knowledge base for data relevant to the job posting\n",
    "3. Optimize the candidate's CV based on the job requirements and profile data\n",
    "\n",
    "## The Data Flow\n",
    "\n",
    "1. Job posting URL → Job Analyst → Structured job requirements\n",
    "2. Candidate data + Job requirements → Candidate Profiler → Profile analysis  \n",
    "3. Profile + Job requirements → CV Strategist → Optimization recommendations\n",
    "4. Optimized data → Template engine → LaTeX → PDF"
   ]
  },
  {
   "cell_type": "markdown",
   "id": "eea3e0ca-b842-4a5a-9cdb-a5ebfc9e1ac2",
   "metadata": {
    "jp-MarkdownHeadingCollapsed": true
   },
   "source": [
    "### Basic Setup"
   ]
  },
  {
   "cell_type": "markdown",
   "id": "f335b923-047d-46e3-982c-305b8224e109",
   "metadata": {},
   "source": [
    "*For displaying source files*"
   ]
  },
  {
   "cell_type": "code",
   "execution_count": null,
   "id": "bc09824c-91a9-43f4-b671-1f2bf596b917",
   "metadata": {},
   "outputs": [],
   "source": [
    "from IPython.display import Markdown"
   ]
  },
  {
   "cell_type": "markdown",
   "id": "b78a0014-4cb2-4b71-9e2a-111130235996",
   "metadata": {},
   "source": [
    "*The Job Posting and Output Directory*"
   ]
  },
  {
   "cell_type": "code",
   "execution_count": null,
   "id": "d80b8da3",
   "metadata": {
    "lines_to_next_cell": 0
   },
   "outputs": [],
   "source": [
    "job_posting_url = \"https://app.welcometothejungle.com/dashboard/jobs/oA1SArxV\"\n",
    "output_directory = \"output/automattic\""
   ]
  },
  {
   "cell_type": "markdown",
   "id": "223071eb",
   "metadata": {
    "jp-MarkdownHeadingCollapsed": true
   },
   "source": [
    "### The Job Analyst"
   ]
  },
  {
   "cell_type": "code",
   "execution_count": null,
   "id": "a7e0441d-7da4-482f-9ef6-617204b316b3",
   "metadata": {
    "scrolled": true
   },
   "outputs": [],
   "source": [
    "with open('optimizer/agents/job_analyst.py') as file:\n",
    "    content = file.read()\n",
    "display(Markdown('```\\n' + content + '\\n```'))"
   ]
  },
  {
   "cell_type": "code",
   "execution_count": null,
   "id": "9bcbc651-625a-481b-b261-06fb9751becc",
   "metadata": {},
   "outputs": [],
   "source": [
    "from optimizer.agents.job_analyst import job_analyst as analyst"
   ]
  },
  {
   "cell_type": "markdown",
   "id": "64c62089-97cd-4437-aa69-9959bb913e8f",
   "metadata": {
    "jp-MarkdownHeadingCollapsed": true
   },
   "source": [
    "### The Candidate Profiler"
   ]
  },
  {
   "cell_type": "code",
   "execution_count": null,
   "id": "0591cb95-2dc0-46fc-a255-eaecbcc9be0c",
   "metadata": {},
   "outputs": [],
   "source": [
    "with open('optimizer/agents/candidate_profiler.py') as file:\n",
    "    content = file.read()\n",
    "display(Markdown('```\\n' + content + '\\n```'))"
   ]
  },
  {
   "cell_type": "code",
   "execution_count": null,
   "id": "23ce1b70-8c9c-409a-a779-d5ad3fb7b95a",
   "metadata": {},
   "outputs": [],
   "source": [
    "from optimizer.agents.candidate_profiler import candidate_profiler as profiler"
   ]
  },
  {
   "cell_type": "markdown",
   "id": "8f302afd",
   "metadata": {
    "jp-MarkdownHeadingCollapsed": true
   },
   "source": [
    "### The C.V. Strategist"
   ]
  },
  {
   "cell_type": "code",
   "execution_count": null,
   "id": "d2d3c1fb-9562-4bcb-8cc3-0b47257f7138",
   "metadata": {},
   "outputs": [],
   "source": [
    "with open('optimizer/agents/job_analyst.py') as file:\n",
    "    content = file.read()\n",
    "display(Markdown('```\\n' + content + '\\n```'))"
   ]
  },
  {
   "cell_type": "code",
   "execution_count": null,
   "id": "03b3579b",
   "metadata": {
    "lines_to_next_cell": 0
   },
   "outputs": [],
   "source": [
    "from optimizer.agents.cv_strategist import cv_strategist as strategist"
   ]
  },
  {
   "cell_type": "markdown",
   "id": "820584c3-686b-440e-ac1a-4f0bdc870ea4",
   "metadata": {
    "jp-MarkdownHeadingCollapsed": true
   },
   "source": [
    "### The Job Analysis Task"
   ]
  },
  {
   "cell_type": "code",
   "execution_count": null,
   "id": "f2a77988-ce35-496b-865a-48c444612afa",
   "metadata": {},
   "outputs": [],
   "source": [
    "with open('optimizer/tasks/job_analysis_task.py') as file:\n",
    "    content = file.read()\n",
    "display(Markdown('```\\n' + content + '\\n```'))"
   ]
  },
  {
   "cell_type": "code",
   "execution_count": null,
   "id": "f01e4c05-bbc7-4dc2-b148-96e90cafa15c",
   "metadata": {},
   "outputs": [],
   "source": [
    "from optimizer.tasks.job_analysis_task import create_job_analysis_task\n"
   ]
  },
  {
   "cell_type": "markdown",
   "id": "9c7e4986-a202-49be-8e5d-b1e4f69fd5ae",
   "metadata": {
    "jp-MarkdownHeadingCollapsed": true
   },
   "source": [
    "### The Candidate Profiling Task"
   ]
  },
  {
   "cell_type": "code",
   "execution_count": null,
   "id": "7af9857a-7c7f-49fd-a6ea-69530b3972b3",
   "metadata": {},
   "outputs": [],
   "source": [
    "with open('optimizer/tasks/candidate_profiling_task.py') as file:\n",
    "    content = file.read()\n",
    "display(Markdown('```\\n' + content + '\\n```'))"
   ]
  },
  {
   "cell_type": "code",
   "execution_count": null,
   "id": "4c286c24-f89a-41e9-b48b-7d15f1761ab4",
   "metadata": {},
   "outputs": [],
   "source": [
    "from optimizer.tasks.candidate_profiling_task import create_candidate_profiling_task\n"
   ]
  },
  {
   "cell_type": "markdown",
   "id": "d4a3a6e2-ce0a-4f5a-96f4-a75ee32a15a8",
   "metadata": {
    "jp-MarkdownHeadingCollapsed": true
   },
   "source": [
    "### The CV Optimization Task"
   ]
  },
  {
   "cell_type": "code",
   "execution_count": null,
   "id": "d4d1b44d-5bba-4543-8f2d-e85d69f874d4",
   "metadata": {},
   "outputs": [],
   "source": [
    "with open('optimizer/tasks/cv_optimization_task.py') as file:\n",
    "    content = file.read()\n",
    "display(Markdown('```\\n' + content + '\\n```'))"
   ]
  },
  {
   "cell_type": "code",
   "execution_count": null,
   "id": "1a6b5559-bede-4689-a4ee-4e7fe8fb33dc",
   "metadata": {},
   "outputs": [],
   "source": [
    "from optimizer.tasks.cv_optimization_task import create_cv_optimization_task"
   ]
  },
  {
   "cell_type": "markdown",
   "id": "6e8fba3d-6762-40a3-ae3a-e921a084b8dd",
   "metadata": {},
   "source": [
    "\n",
    "*Each task is coupled to the previous task in the pipeline*"
   ]
  },
  {
   "cell_type": "code",
   "execution_count": null,
   "id": "39b4bbf3",
   "metadata": {},
   "outputs": [],
   "source": [
    "job_analysis = create_job_analysis_task(analyst)\n",
    "candidate_profiling = create_candidate_profiling_task(profiler, job_analysis)\n",
    "cv_optimization = create_cv_optimization_task(strategist, job_analysis, candidate_profiling)"
   ]
  },
  {
   "cell_type": "markdown",
   "id": "edf180b9",
   "metadata": {
    "jp-MarkdownHeadingCollapsed": true
   },
   "source": [
    "### The Crew"
   ]
  },
  {
   "cell_type": "code",
   "execution_count": null,
   "id": "309d6c41",
   "metadata": {},
   "outputs": [],
   "source": [
    "from crewai import Crew, LLM\n",
    "from config import get_config\n",
    "\n",
    "config = get_config()\n",
    "\n",
    "inputs = {\n",
    "    \"job_posting_url\": job_posting_url,\n",
    "    \"cv_data_path\": \"data/cv.yaml\",\n",
    "    \"output_directory\": output_directory,\n",
    "}\n",
    "\n",
    "llm = LLM(\n",
    "    model=config.crew_manager_model, temperature=float(config.crew_manager_temperature),\n",
    ")\n",
    "\n",
    "crew = Crew(\n",
    "    agents=[analyst, profiler, strategist],\n",
    "    tasks=[job_analysis, candidate_profiling, cv_optimization],\n",
    "    verbose=True,\n",
    ")"
   ]
  },
  {
   "cell_type": "markdown",
   "id": "74eb7c7b",
   "metadata": {},
   "source": [
    "*Release the hounds!*"
   ]
  },
  {
   "cell_type": "code",
   "execution_count": null,
   "id": "aa7fbab7",
   "metadata": {
    "lines_to_next_cell": 0
   },
   "outputs": [],
   "source": [
    "result = crew.kickoff(inputs=inputs)"
   ]
  },
  {
   "cell_type": "markdown",
   "id": "0c508c9c",
   "metadata": {},
   "source": []
  }
 ],
 "metadata": {
  "kernelspec": {
   "display_name": "CV Agents",
   "language": "python",
   "name": "cv-agents"
  },
  "language_info": {
   "codemirror_mode": {
    "name": "ipython",
    "version": 3
   },
   "file_extension": ".py",
   "mimetype": "text/x-python",
   "name": "python",
   "nbconvert_exporter": "python",
   "pygments_lexer": "ipython3",
   "version": "3.12.10"
  }
 },
 "nbformat": 4,
 "nbformat_minor": 5
}
